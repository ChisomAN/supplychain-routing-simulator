{
 "cells": [
  {
   "cell_type": "markdown",
   "id": "ff2d8732",
   "metadata": {},
   "source": [
    "# EDA & Cleaning — Compact Notebook"
   ]
  },
  {
   "cell_type": "code",
   "execution_count": null,
   "id": "09ba2220",
   "metadata": {},
   "outputs": [],
   "source": [
    "import pandas as pd, matplotlib.pyplot as plt\n",
    "from sklearn.preprocessing import MinMaxScaler\n",
    "df = pd.read_csv('sample_edges_messy.csv')\n",
    "df.head()"
   ]
  },
  {
   "cell_type": "code",
   "execution_count": null,
   "id": "8c9d2d43",
   "metadata": {},
   "outputs": [],
   "source": [
    "df.describe().T"
   ]
  },
  {
   "cell_type": "code",
   "execution_count": null,
   "id": "148efa3e",
   "metadata": {},
   "outputs": [],
   "source": [
    "plt.figure(); df['distance_km'].hist(bins=30); plt.title('distance_km'); plt.show()"
   ]
  },
  {
   "cell_type": "code",
   "execution_count": null,
   "id": "9033a822",
   "metadata": {},
   "outputs": [],
   "source": [
    "clean = df.copy()\n",
    "clean = clean.dropna()\n",
    "for c in ['distance_km','travel_time_est','fuel_rate']:\n",
    "    if c in clean.columns:\n",
    "        q1,q3 = clean[c].quantile([0.25,0.75]); iqr = q3-q1\n",
    "        lo,hi = q1-1.5*iqr, q3+1.5*iqr\n",
    "        clean[c] = clean[c].clip(lo,hi)\n",
    "num_cols = [c for c in clean.columns if pd.api.types.is_numeric_dtype(clean[c])]\n",
    "scaler = MinMaxScaler(); clean[num_cols] = scaler.fit_transform(clean[num_cols])\n",
    "clean.head()"
   ]
  }
 ],
 "metadata": {},
 "nbformat": 4,
 "nbformat_minor": 5
}
